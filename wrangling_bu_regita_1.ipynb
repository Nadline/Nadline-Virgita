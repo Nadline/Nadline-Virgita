{
  "cells": [
    {
      "cell_type": "code",
      "execution_count": null,
      "metadata": {
        "colab": {
          "base_uri": "https://localhost:8080/"
        },
        "id": "5oMQilhpeFbt",
        "outputId": "dc8bcadb-b37a-41fa-a837-eca1ce92fa35"
      },
      "outputs": [
        {
          "name": "stdout",
          "output_type": "stream",
          "text": [
            "AB^(-1):\n",
            "[[ 1.75 -1.    2.25]\n",
            " [ 4.   -2.    5.  ]\n",
            " [-3.75  2.   -4.25]]\n",
            "\n",
            "CD^(-1):\n",
            "[[1. 0. 0. 0.]\n",
            " [0. 1. 0. 0.]\n",
            " [0. 0. 1. 0.]\n",
            " [0. 0. 0. 1.]]\n",
            "\n",
            "(AB)^(-1)(BA):\n",
            "[[-1.25  0.25  2.5 ]\n",
            " [-3.    1.    8.  ]\n",
            " [ 3.25 -0.25 -6.5 ]]\n",
            "\n",
            "(CD)^(-1)(D^(-1)C):\n",
            "[[ 2.  2. -1. -4.]\n",
            " [ 2.  3. -2. -7.]\n",
            " [ 1.  1. -3. -6.]\n",
            " [ 2.  2. -3. -7.]]\n"
          ]
        }
      ],
      "source": [
        "# nomer 5\n",
        "import numpy as np\n",
        "\n",
        "# Definisi matriks A, B, C, dan D\n",
        "A = np.array([[-1, 0, 1],\n",
        "              [-1, 1, 2],\n",
        "              [ 1, 0, 1]])\n",
        "\n",
        "B = np.array([[4, 0, 2],\n",
        "              [1, 2, 3],\n",
        "              [-2, 1, 0]])\n",
        "\n",
        "C = np.array([[2, 2, -1, -4],\n",
        "              [2, 3, -2, -7],\n",
        "              [1, 1, -3, -6],\n",
        "              [2, 2, -3, -7]])\n",
        "\n",
        "D = np.array ([[2, -1, 1, -1],\n",
        "               [-5, 1, -6, 7],\n",
        "               [5, 0, 6, -8],\n",
        "               [-3, 0, -4, 5]])\n",
        "\n",
        "# Menghitung invers dari AB dan CD\n",
        "AB_inv = np.linalg.inv(A.dot(B))\n",
        "CD_inv = np.linalg.inv(C.dot(D))\n",
        "\n",
        "# Menghitung AB^(-1)(BA)\n",
        "result1 = np.linalg.inv(A.dot(B)).dot(B.dot(A))\n",
        "\n",
        "# Menghitung CD^(-1)(D^(-1)C)\n",
        "result2 = np.linalg.inv(C.dot(D)).dot(D.dot(np.linalg.inv(D).dot(C)))\n",
        "\n",
        "print(\"AB^(-1):\")\n",
        "print(AB_inv)\n",
        "print(\"\\nCD^(-1):\")\n",
        "print(CD_inv)\n",
        "print(\"\\n(AB)^(-1)(BA):\")\n",
        "print(result1)\n",
        "print(\"\\n(CD)^(-1)(D^(-1)C):\")\n",
        "print(result2)\n"
      ]
    },
    {
      "cell_type": "code",
      "execution_count": null,
      "metadata": {
        "colab": {
          "base_uri": "https://localhost:8080/"
        },
        "id": "hOK48O1jiaX3",
        "outputId": "174fcad7-73d8-4230-8bf0-3c22110ef402"
      },
      "outputs": [
        {
          "name": "stdout",
          "output_type": "stream",
          "text": [
            "Matriks A:\n",
            "[[ 1  3  5  7]\n",
            " [ 2  4  6  8]\n",
            " [-3 -2 -1  0]]\n",
            "\n",
            "Vector u:\n",
            "[[10 20 30]]\n",
            "\n",
            "Ukuran matriks A: (3, 4)\n",
            "Ukuran vector u: (1, 3)\n",
            "\n",
            "Kolom pertama dari matriks A:\n",
            "[ 1  2 -3]\n",
            "\n",
            "Dua baris pertama dari matriks A:\n",
            "[[1 3 5 7]\n",
            " [2 4 6 8]]\n",
            "\n",
            "Dua entri pertama dari vector u:\n",
            "[[10 20 30]]\n",
            "\n",
            "Dua entri terakhir dari vector u:\n",
            "[[10 20 30]]\n",
            "\n",
            "Kiri bawah 2x2 dari matriks A:\n",
            "[[ 2  4  6]\n",
            " [-3 -2 -1]]\n",
            "\n",
            "Dua elemen tengah dari baris tengah matriks A:\n",
            "[4 6]\n"
          ]
        }
      ],
      "source": [
        "# nomer 6\n",
        "import numpy as np\n",
        "A= np.array ([[1, 3, 5, 7],\n",
        "              [2, 4, 6, 8],\n",
        "              [-3, -2, -1, 0]])\n",
        "u= np.array ([[10, 20, 30]])\n",
        "# a. Cetak matriks A, vector u, ukuran matriks, dan ukuran vector\n",
        "print(\"Matriks A:\")\n",
        "print(A)\n",
        "print(\"\\nVector u:\")\n",
        "print(u)\n",
        "print(\"\\nUkuran matriks A:\", A.shape)\n",
        "print(\"Ukuran vector u:\", u.shape)\n",
        "\n",
        "# b. Cetak kolom pertama dari matriks A\n",
        "print(\"\\nKolom pertama dari matriks A:\")\n",
        "print(A[:, 0])\n",
        "\n",
        "# c. Cetak dua baris pertama dari matriks A\n",
        "print(\"\\nDua baris pertama dari matriks A:\")\n",
        "print(A[:2, :])\n",
        "\n",
        "# d. Cetak dua entri pertama dari vector u\n",
        "print(\"\\nDua entri pertama dari vector u:\")\n",
        "print(u[:2])\n",
        "\n",
        "# e. Cetak dua entri terakhir dari vector u\n",
        "print(\"\\nDua entri terakhir dari vector u:\")\n",
        "print(u[-2:])\n",
        "\n",
        "# f. Cetak kiri bawah 2x2 dari matriks A\n",
        "print(\"\\nKiri bawah 2x2 dari matriks A:\")\n",
        "print(A[1:, :-1])\n",
        "\n",
        "# g. Cetak dua elemen tengah dari baris tengah matriks A\n",
        "print(\"\\nDua elemen tengah dari baris tengah matriks A:\")\n",
        "print(A[1, 1:3])"
      ]
    },
    {
      "cell_type": "code",
      "execution_count": null,
      "metadata": {
        "colab": {
          "base_uri": "https://localhost:8080/"
        },
        "id": "lyD-3YzLjl-k",
        "outputId": "ded21826-adf2-4731-dd5b-e92bd7a1f003"
      },
      "outputs": [
        {
          "name": "stdout",
          "output_type": "stream",
          "text": [
            "Matriks diagonal:\n",
            "[[1 0 0]\n",
            " [0 2 0]\n",
            " [0 0 3]]\n",
            "\n",
            "Determinan dari matriks diagonal: 6.0\n"
          ]
        }
      ],
      "source": [
        "# nomer 8\n",
        "import numpy as np\n",
        "\n",
        "# Definisi matriks A, B, C, dan D\n",
        "A = np.array([[-1, 0, 1],\n",
        "              [-1, 1, 2],\n",
        "              [ 1, 0, 1]])\n",
        "\n",
        "B = np.array([[4, 0, 2],\n",
        "              [1, 2, 3],\n",
        "              [-2, 1, 0]])\n",
        "\n",
        "C = np.array([[2, 2, -1, -4],\n",
        "              [2, 3, -2, -7],\n",
        "              [1, 1, -3, -6],\n",
        "              [2, 2, -3, -7]])\n",
        "\n",
        "D = np.array ([[2, -1, 1, -1],\n",
        "               [-5, 1, -6, 7],\n",
        "               [5, 0, 6, -8],\n",
        "               [-3, 0, -4, 5]])\n",
        "# Membuat matriks diagonal\n",
        "matriks_diagonal = np.diag([1, 2, 3])\n",
        "\n",
        "# Menampilkan matriks diagonal\n",
        "print(\"Matriks diagonal:\")\n",
        "print(matriks_diagonal)\n",
        "\n",
        "# Menghitung determinan dari matriks diagonal\n",
        "determinan = np.linalg.det(matriks_diagonal)\n",
        "\n",
        "# Menampilkan determinan\n",
        "print(\"\\nDeterminan dari matriks diagonal:\", determinan)"
      ]
    },
    {
      "cell_type": "code",
      "execution_count": null,
      "metadata": {},
      "outputs": [],
      "source": [
        "# nomer 3\n",
        "import numpy as np\n",
        "# Matriks koefisien A\n",
        "A = np.array([[3, -1, 2],\n",
        "               [-4, 2, 7],\n",
        "               [11, 5, 9]])\n",
        "\n",
        "# Vektor hasil B\n",
        "B = np.array([11, 13, 28])\n",
        "A_inv = np.linalg.inv(A)\n",
        "# Menyelesaikan sistem persamaan linear\n",
        "X1 = np.dot(A_inv,B)\n",
        "\n",
        "# Menampilkan solusi\n",
        "print(\"Solusi dari sistem persamaan linear:\")\n",
        "print(X1)\n",
        "\n",
        "# Menghitung nilai x + 7y - 2z\n",
        "x, y, z = X1\n",
        "result = x + 7*y - 2*z\n",
        "\n",
        "# Menampilkan hasil nilai x + 7y - 2z\n",
        "print(f\"Nilai dari x + 7y - 2z adalah: {result}\")"
      ]
    },
    {
      "cell_type": "code",
      "execution_count": null,
      "metadata": {},
      "outputs": [],
      "source": []
    }
  ],
  "metadata": {
    "colab": {
      "provenance": []
    },
    "kernelspec": {
      "display_name": "Python 3",
      "name": "python3"
    },
    "language_info": {
      "name": "python"
    }
  },
  "nbformat": 4,
  "nbformat_minor": 0
}
